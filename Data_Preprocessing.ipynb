{
 "cells": [
  {
   "cell_type": "code",
   "execution_count": 36,
   "metadata": {},
   "outputs": [],
   "source": [
    "#Importing Libraries \n",
    "import numpy as np\n",
    "import cv2 as cv\n",
    "import scipy.io\n",
    "import os\n",
    "from tqdm import tqdm\n",
    "import random\n",
    "import shutil"
   ]
  },
  {
   "cell_type": "code",
   "execution_count": 37,
   "metadata": {},
   "outputs": [],
   "source": [
    "def ensure_folder(folder):\n",
    "    if not os.path.exists(folder):\n",
    "        os.makedirs(folder)"
   ]
  },
  {
   "cell_type": "code",
   "execution_count": 38,
   "metadata": {},
   "outputs": [],
   "source": [
    "def save_train_data(fnames, labels, bboxes):\n",
    "    src_folder = 'Car_Dataset/cars_train'\n",
    "    num_samples = len(fnames)\n",
    "\n",
    "    train_split = 0.8\n",
    "    num_train = int(round(num_samples * train_split))\n",
    "    train_indexes = random.sample(range(num_samples), num_train)\n",
    "\n",
    "    for i in tqdm(range(num_samples)):\n",
    "        fname = fnames[i]\n",
    "        label = labels[i]\n",
    "        (x1, y1, x2, y2) = bboxes[i]\n",
    "\n",
    "        src_path = os.path.join(src_folder, fname)\n",
    "        src_image = cv.imread(src_path)\n",
    "        height, width = src_image.shape[:2]\n",
    "        # margins of 16 pixels\n",
    "        margin = 16\n",
    "        x1 = max(0, x1 - margin)\n",
    "        y1 = max(0, y1 - margin)\n",
    "        x2 = min(x2 + margin, width)\n",
    "        y2 = min(y2 + margin, height)\n",
    "        # print(\"{} -> {}\".format(fname, label))\n",
    "\n",
    "        if i in train_indexes:\n",
    "            dst_folder = 'data/train'\n",
    "        else:\n",
    "            dst_folder = 'data/valid'\n",
    "\n",
    "        dst_path = os.path.join(dst_folder, label)\n",
    "        if not os.path.exists(dst_path):\n",
    "            os.makedirs(dst_path)\n",
    "        dst_path = os.path.join(dst_path, fname)\n",
    "\n",
    "        crop_image = src_image[y1:y2, x1:x2]\n",
    "        dst_img = cv.resize(src=crop_image, dsize=(img_height, img_width))\n",
    "        cv.imwrite(dst_path, dst_img)"
   ]
  },
  {
   "cell_type": "code",
   "execution_count": 39,
   "metadata": {},
   "outputs": [],
   "source": [
    "def save_test_data(fnames, bboxes):\n",
    "    src_folder = 'Car_Dataset/cars_test'\n",
    "    dst_folder = 'data/test'\n",
    "    num_samples = len(fnames)\n",
    "\n",
    "    for i in tqdm(range(num_samples)):\n",
    "        fname = fnames[i]\n",
    "        (x1, y1, x2, y2) = bboxes[i]\n",
    "        src_path = os.path.join(src_folder, fname)\n",
    "        src_image = cv.imread(src_path)\n",
    "        if src_image is not None:\n",
    "            height, width = src_image.shape[:2]\n",
    "            # margins of 16 pixels\n",
    "            margin = 16\n",
    "            x1 = max(0, x1 - margin)\n",
    "            y1 = max(0, y1 - margin)\n",
    "            x2 = min(x2 + margin, width)\n",
    "            y2 = min(y2 + margin, height)\n",
    "            # print(fname)\n",
    "\n",
    "            dst_path = os.path.join(dst_folder, fname)\n",
    "            crop_image = src_image[y1:y2, x1:x2]\n",
    "            dst_img = cv.resize(src=crop_image, dsize=(img_height, img_width))\n",
    "            cv.imwrite(dst_path, dst_img)\n",
    "        else:\n",
    "            print(f\"Error: could not read image file '{src_path}'\")\n"
   ]
  },
  {
   "cell_type": "code",
   "execution_count": 40,
   "metadata": {},
   "outputs": [],
   "source": [
    "def process_train_data():\n",
    "    print(\"Processing train data...\")\n",
    "    cars_annos = scipy.io.loadmat('devkit/cars_train_annos')\n",
    "    annotations = cars_annos['annotations']\n",
    "    annotations = np.transpose(annotations)\n",
    "\n",
    "    fnames = []\n",
    "    class_ids = []\n",
    "    bboxes = []\n",
    "    labels = []\n",
    "\n",
    "    for annotation in annotations:\n",
    "        bbox_x1 = annotation[0][0][0][0]\n",
    "        bbox_y1 = annotation[0][1][0][0]\n",
    "        bbox_x2 = annotation[0][2][0][0]\n",
    "        bbox_y2 = annotation[0][3][0][0]\n",
    "        class_id = annotation[0][4][0][0]\n",
    "        labels.append('%04d' % (class_id,))\n",
    "        fname = annotation[0][5][0]\n",
    "        bboxes.append((bbox_x1, bbox_y1, bbox_x2, bbox_y2))\n",
    "        class_ids.append(class_id)\n",
    "        fnames.append(fname)\n",
    "\n",
    "    labels_count = np.unique(class_ids).shape[0]\n",
    "    print(np.unique(class_ids))\n",
    "    print('The number of different cars is %d' % labels_count)\n",
    "\n",
    "    save_train_data(fnames, labels, bboxes)\n"
   ]
  },
  {
   "cell_type": "code",
   "execution_count": 41,
   "metadata": {},
   "outputs": [],
   "source": [
    "def process_test_data():\n",
    "    print(\"Processing test data...\")\n",
    "    cars_annos = scipy.io.loadmat('devkit/cars_test_annos')\n",
    "    annotations = cars_annos['annotations']\n",
    "    annotations = np.transpose(annotations)\n",
    "\n",
    "    fnames = []\n",
    "    bboxes = []\n",
    "\n",
    "\n",
    "    for annotation in annotations:\n",
    "        bbox_x1 = annotation[0][0][0][0]\n",
    "        bbox_y1 = annotation[0][1][0][0]\n",
    "        bbox_x2 = annotation[0][2][0][0]\n",
    "        bbox_y2 = annotation[0][3][0][0]\n",
    "        fname = annotation[0][4][0]\n",
    "        bboxes.append((bbox_x1, bbox_y1, bbox_x2, bbox_y2))\n",
    "        fnames.append(fname)\n",
    "\n",
    "    save_test_data(fnames, bboxes)\n"
   ]
  },
  {
   "cell_type": "code",
   "execution_count": 42,
   "metadata": {},
   "outputs": [
    {
     "name": "stdout",
     "output_type": "stream",
     "text": [
      "class_names.shape: (196, 1)\n",
      "Sample class_name: [Aston Martin V8 Vantage Coupe 2012]\n",
      "Processing train data...\n",
      "[  1   2   3   4   5   6   7   8   9  10  11  12  13  14  15  16  17  18\n",
      "  19  20  21  22  23  24  25  26  27  28  29  30  31  32  33  34  35  36\n",
      "  37  38  39  40  41  42  43  44  45  46  47  48  49  50  51  52  53  54\n",
      "  55  56  57  58  59  60  61  62  63  64  65  66  67  68  69  70  71  72\n",
      "  73  74  75  76  77  78  79  80  81  82  83  84  85  86  87  88  89  90\n",
      "  91  92  93  94  95  96  97  98  99 100 101 102 103 104 105 106 107 108\n",
      " 109 110 111 112 113 114 115 116 117 118 119 120 121 122 123 124 125 126\n",
      " 127 128 129 130 131 132 133 134 135 136 137 138 139 140 141 142 143 144\n",
      " 145 146 147 148 149 150 151 152 153 154 155 156 157 158 159 160 161 162\n",
      " 163 164 165 166 167 168 169 170 171 172 173 174 175 176 177 178 179 180\n",
      " 181 182 183 184 185 186 187 188 189 190 191 192 193 194 195 196]\n",
      "The number of different cars is 196\n"
     ]
    },
    {
     "name": "stderr",
     "output_type": "stream",
     "text": [
      "100%|██████████| 8144/8144 [00:57<00:00, 141.31it/s]\n"
     ]
    },
    {
     "name": "stdout",
     "output_type": "stream",
     "text": [
      "Processing test data...\n"
     ]
    },
    {
     "name": "stderr",
     "output_type": "stream",
     "text": [
      "100%|██████████| 8041/8041 [00:56<00:00, 142.68it/s]\n"
     ]
    }
   ],
   "source": [
    "if __name__ == '__main__':\n",
    "\n",
    "    # parameters\n",
    "    \n",
    "    img_width, img_height = 224, 224\n",
    "    cars_meta = scipy.io.loadmat('devkit/cars_meta')\n",
    "    class_names = cars_meta['class_names']  # shape=(1, 196)\n",
    "    class_names = np.transpose(class_names)\n",
    "    print('class_names.shape: ' + str(class_names.shape))\n",
    "    print('Sample class_name: [{}]'.format(class_names[8][0][0]))\n",
    "\n",
    "    ensure_folder('data/train')\n",
    "    ensure_folder('data/valid')\n",
    "    ensure_folder('data/test')\n",
    "\n",
    "    process_train_data()\n",
    "    process_test_data()"
   ]
  }
 ],
 "metadata": {
  "kernelspec": {
   "display_name": "Python 3",
   "language": "python",
   "name": "python3"
  },
  "language_info": {
   "codemirror_mode": {
    "name": "ipython",
    "version": 3
   },
   "file_extension": ".py",
   "mimetype": "text/x-python",
   "name": "python",
   "nbconvert_exporter": "python",
   "pygments_lexer": "ipython3",
   "version": "3.10.6"
  },
  "orig_nbformat": 4
 },
 "nbformat": 4,
 "nbformat_minor": 2
}
